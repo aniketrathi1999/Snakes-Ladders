{
 "cells": [
  {
   "cell_type": "markdown",
   "metadata": {},
   "source": [
    "# Snakes & Ladders\n",
    "\n",
    "## Week 1:Assignment\n",
    "\n",
    "### Submitted By - Aniket Rathi\n",
    "### Roll - 1805464\n",
    "\n",
    "### House - Lex Luthor"
   ]
  },
  {
   "cell_type": "code",
   "execution_count": 1,
   "metadata": {},
   "outputs": [],
   "source": [
    "#defining a player class to store name and score of a particular player \n",
    "class Player:\n",
    "    def __init__(self,name):\n",
    "        self.name = name\n",
    "    def get_name(self):\n",
    "        return self.name\n",
    "    def set_score(self,score):\n",
    "        self.score = score\n",
    "    def get_score(self):\n",
    "        return self.score"
   ]
  },
  {
   "cell_type": "code",
   "execution_count": 2,
   "metadata": {},
   "outputs": [],
   "source": [
    "#importing random to get a random number between 1-6 for dice \n",
    "import random"
   ]
  },
  {
   "cell_type": "code",
   "execution_count": 3,
   "metadata": {},
   "outputs": [],
   "source": [
    "#placing position of snakes and ladders\n",
    "ladders = {3 : 38, 24 : 33, 42 : 93, 72 : 84}\n",
    "snakes = {17 : 7, 54 : 34, 62 : 19, 98 : 79}"
   ]
  },
  {
   "cell_type": "code",
   "execution_count": 4,
   "metadata": {},
   "outputs": [],
   "source": [
    "#function to roll the dice and return position .. depends on mode which the player enters \n",
    "def return_pos_from_dice(mode):\n",
    "    if mode.lower()==\"roll\":\n",
    "        return random.randint(1,6)\n",
    "    elif mode.isnumeric() and int(mode) in range(1,21):\n",
    "        return int(mode)\n",
    "    else:\n",
    "        return None"
   ]
  },
  {
   "cell_type": "code",
   "execution_count": 5,
   "metadata": {},
   "outputs": [],
   "source": [
    "#check if any player has won\n",
    "def check_won(player1,player2):\n",
    "    if player1.get_score() == 100:\n",
    "        print('#'*30)\n",
    "        print(player1.get_name(),\" has won the game!\")\n",
    "        return True\n",
    "    elif player2.get_score() == 100:\n",
    "        print('#'*30)\n",
    "        print(player2.get_name(),\" has won the game!\")\n",
    "        return True\n",
    "    return False\n",
    "    "
   ]
  },
  {
   "cell_type": "code",
   "execution_count": 6,
   "metadata": {},
   "outputs": [],
   "source": [
    "#intructions manual \n",
    "def instructions():\n",
    "    print('\\n','#'*15,\"Game Instructions\",'#'*15)\n",
    "    print(\"1. There are 2 modes: manual and auto\\n\\t\\tIn manual you can enter a number between 1 and 20\\n\\t\\tIn auto you enter 'roll'\")\n",
    "    print(\"2. If you are bit by a snake, you go down a level\")\n",
    "    print(\"3. If you get a ladder, you advance a level\")\n",
    "    print(\"4. To exit, enter 'quit'\")\n",
    "    print(\"That's it. Enjoy!\\n\")"
   ]
  },
  {
   "cell_type": "code",
   "execution_count": 7,
   "metadata": {},
   "outputs": [],
   "source": [
    "# main game\n",
    "\n",
    "def game():\n",
    "    \n",
    "    k = input(\"Do you want to see instructions? Enter yes or no: \")\n",
    "    if k.lower().strip() == \"yes\":\n",
    "        instructions()\n",
    "    \n",
    "    print('\\n','#'*10,\"Welcome to the world of snakes & ladders\",'#'*10)\n",
    "    print('#'*17,\"Please introduce yourself\",'#'*17,)\n",
    "    \n",
    "    #creating players and initialising their name \n",
    "    x = input(\"Enter name of first player: \")\n",
    "    y = input(\"Enter name of second player: \")\n",
    "    player1 = Player(x)\n",
    "    player2 = Player(y)\n",
    "    print('#'*10,\"Let the show begin\",'#'*10,'\\n')\n",
    "    \n",
    "    #setting turn ... 0 for player1 and 1 for player2\n",
    "    player_turn = 0 \n",
    "    \n",
    "    #initialising the position\n",
    "    player1.set_score(0)\n",
    "    player2.set_score(0)\n",
    "    \n",
    "    while True:\n",
    "        if player_turn == 0:\n",
    "            input_from_user = input(f\"{player1.get_name()}'s turn: \")\n",
    "            \n",
    "            #if player1 chooses to quit\n",
    "            if input_from_user.lower().strip() == \"quit\":\n",
    "                print(f\"{player1.get_name()} has chose to quit. {player2.get_name()} has won. \")\n",
    "                print(\"Thank you for playing!\")\n",
    "                return \n",
    "            \n",
    "            #score after rolling from dice\n",
    "            chance = return_pos_from_dice(input_from_user)\n",
    "            \n",
    "            if chance==None:\n",
    "                print(\"Enter a valid option - 'roll' or a number between 1 and 20\",\"\\n\")\n",
    "                continue\n",
    "            \n",
    "            #getting total score\n",
    "            total_score = player1.get_score()+chance\n",
    "            if total_score in snakes.keys():\n",
    "                total_score = snakes[total_score]\n",
    "                print(\"Oops! you got bit by snake, you are at \",total_score,\"\\n\")\n",
    "                player1.set_score(total_score)\n",
    "            elif total_score in ladders.keys():\n",
    "                total_score = ladders[total_score]\n",
    "                player1.set_score(total_score)\n",
    "                print(\"Hooraay! you got a ladder, you are at\",total_score,\"\\n\")\n",
    "            else :\n",
    "                if total_score<=100:\n",
    "                    player1.set_score(total_score)\n",
    "                    print(\"you got \",chance,\" you are at \",total_score,\"\\n\") \n",
    "                if total_score>100:\n",
    "                    print(\"you got \",chance,\"your total score cannot be greater than 100.\")\n",
    "            #switching to player2 \n",
    "            player_turn = 1\n",
    "            \n",
    "        elif player_turn == 1:\n",
    "            input_from_user = input(f\"{player2.get_name()}'s turn: \")\n",
    "            \n",
    "            #if player2 chooses to quit\n",
    "            if input_from_user.lower().strip() == \"quit\":\n",
    "                print(f\"{player2.get_name()} has chose to quit. {player1.get_name()} has won. \")\n",
    "                print(\"Thank you for playing!\")\n",
    "                return\n",
    "            \n",
    "            \n",
    "            #score after rolling from dice\n",
    "            chance = return_pos_from_dice(input_from_user)\n",
    "            \n",
    "            #if any invalid number or option is entered\n",
    "            if chance==None:\n",
    "                print(\"Enter a valid option - 'roll' or a number between 1 and 20\",\"\\n\")\n",
    "                continue\n",
    "            \n",
    "            #getting total score\n",
    "            total_score = player2.get_score()+chance\n",
    "            if total_score in snakes.keys():\n",
    "                total_score = snakes[total_score]\n",
    "                player2.set_score(total_score)\n",
    "                print(\"You got bit by snake, you are at\",total_score,\"\\n\")\n",
    "            elif total_score in ladders.keys():\n",
    "                player2.set_score(total_score)\n",
    "                total_score = ladders[total_score]\n",
    "                print(\"you got a ladder, you are at\",total_score,\"\\n\")\n",
    "            else :\n",
    "                if total_score<=100:\n",
    "                    player2.set_score(total_score)\n",
    "                    print(\"you got \",chance,\" you are at \",total_score,\"\\n\")\n",
    "                if total_score>100:\n",
    "                    print(\"you got \",chance,\"your total score cannot be greater than 100.\")\n",
    "            \n",
    "            #switching to player1\n",
    "            player_turn = 0\n",
    "        \n",
    "        #checking if any player won the game\n",
    "        if check_won(player1,player2):\n",
    "            break\n",
    "        \n",
    "    print(\"Game successfully finished. Thank you for playing\")\n",
    "    print('#'*30)\n",
    "    return \n",
    "            \n",
    "            \n",
    "    \n",
    "    "
   ]
  },
  {
   "cell_type": "code",
   "execution_count": null,
   "metadata": {},
   "outputs": [
    {
     "name": "stdout",
     "output_type": "stream",
     "text": [
      "Do you want to see instructions? Enter yes or no: no\n",
      "\n",
      " ########## Welcome to the world of snakes & ladders ##########\n",
      "################# Please introduce yourself #################\n"
     ]
    }
   ],
   "source": [
    "game()"
   ]
  },
  {
   "cell_type": "code",
   "execution_count": null,
   "metadata": {},
   "outputs": [],
   "source": []
  }
 ],
 "metadata": {
  "kernelspec": {
   "display_name": "Python 3",
   "language": "python",
   "name": "python3"
  },
  "language_info": {
   "codemirror_mode": {
    "name": "ipython",
    "version": 3
   },
   "file_extension": ".py",
   "mimetype": "text/x-python",
   "name": "python",
   "nbconvert_exporter": "python",
   "pygments_lexer": "ipython3",
   "version": "3.8.3"
  }
 },
 "nbformat": 4,
 "nbformat_minor": 4
}
